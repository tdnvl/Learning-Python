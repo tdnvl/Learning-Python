{
 "cells": [
  {
   "cell_type": "markdown",
   "metadata": {},
   "source": [
    "## Bite 5. Parse a list of names \n",
    "\n",
    "> In this bite you will work with a list of names.  \n",
    "First you will write a function to take out duplicates and title case them.  \n",
    "Then you will sort the list in alphabetical descending order by surname and lastly determine what the shortest first name is. For this exercise you can assume there is always one name and one surname."
   ]
  },
  {
   "cell_type": "code",
   "execution_count": null,
   "metadata": {},
   "outputs": [],
   "source": [
    "# My code\n",
    "\n",
    "NAMES = ['arnold schwarzenegger', 'alec baldwin', 'bob belderbos',\n",
    "         'julian sequeira', 'sandra bullock', 'keanu reeves',\n",
    "         'julbob pybites', 'bob belderbos', 'julian sequeira',\n",
    "         'al pacino', 'brad pitt', 'matt damon', 'brad pitt']\n",
    "\n",
    "\n",
    "def dedup_and_title_case_names(names):\n",
    "    NAMES_ALLCAP=[]\n",
    "    NAMES_ALLCAP_DEDUP=[]\n",
    "    for n in names:\n",
    "        NAMES_ALLCAP.append(n.title())\n",
    "    NAMES_ALLCAP_DEDUP = list(set(NAMES_ALLCAP))\n",
    "    return NAMES_ALLCAP_DEDUP\n",
    "\n",
    "\n",
    "def sort_by_surname_desc(names):\n",
    "    \"\"\"Returns names list sorted desc by surname\"\"\"\n",
    "    names = dedup_and_title_case_names(names)\n",
    "    FNAMES = []\n",
    "    LNAMES = []\n",
    "    sorted_tuples = []\n",
    "    final_list = []\n",
    "    names_dict = {}\n",
    "\n",
    "    for n in names:\n",
    "      TEMP = n.split()\n",
    "      FNAMES.append(TEMP[0])\n",
    "      LNAMES.append(TEMP[1])\n",
    "      names_dict = dict(zip(FNAMES,LNAMES))\n",
    "\n",
    "    sorted_tuples = sorted(names_dict.items(), key=lambda x: x[1], reverse=True)\n",
    "\n",
    "    for t in sorted_tuples:\n",
    "      final_list.append(' '.join(t))\n",
    "      \n",
    "    return final_list\n",
    "\n",
    "\n",
    "def shortest_first_name(names):\n",
    "    \"\"\"Returns the shortest first name (str)\"\"\"\n",
    "    names = dedup_and_title_case_names(names)\n",
    "    first_names = []\n",
    "    len_dict = {}\n",
    "    for n in names:\n",
    "        temp = []\n",
    "        temp = n.split()\n",
    "        first_names.append(temp[0])\n",
    "        len_dict[temp[0]] = len(temp[0]) \n",
    "    return min(len_dict, key=len_dict.get)\n"
   ]
  },
  {
   "cell_type": "markdown",
   "metadata": {},
   "source": [
    "### Analysis\n",
    "\n",
    "What I wrote for `dedup_and_title_case_names()` is a bit overkill and not too pythonic. That's OK.\n",
    "\n",
    "The solution featured a for loop iterating through all the names, applying a `.title()` method, wrapping that in a set `{}` to get rid of duplicates (downstream—clever) and wrapped again in a `list()`.\n",
    "\n",
    "One line of code. I had the `list(set())` nesting, but my for loop was very inefficient and relied on creating empty lists. `NAMES` was _already_ a list."
   ]
  },
  {
   "cell_type": "code",
   "execution_count": null,
   "metadata": {},
   "outputs": [],
   "source": []
  }
 ],
 "metadata": {
  "kernelspec": {
   "display_name": "Python 3",
   "language": "python",
   "name": "python3"
  },
  "language_info": {
   "codemirror_mode": {
    "name": "ipython",
    "version": 3
   },
   "file_extension": ".py",
   "mimetype": "text/x-python",
   "name": "python",
   "nbconvert_exporter": "python",
   "pygments_lexer": "ipython3",
   "version": "3.6.2"
  }
 },
 "nbformat": 4,
 "nbformat_minor": 2
}
