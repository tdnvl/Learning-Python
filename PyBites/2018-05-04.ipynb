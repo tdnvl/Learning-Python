{
 "cells": [
  {
   "cell_type": "markdown",
   "metadata": {},
   "source": [
    "# 2018-05-04"
   ]
  },
  {
   "cell_type": "markdown",
   "metadata": {},
   "source": [
    "## Bite 1. Sum n numbers\n",
    "\n",
    "Reviewing the [solution](https://codechalleng.es/bites/1/) for this Bite. I solved it but the solution is—of course—more elegant.\n",
    "\n",
    ">Write a function that can sum up numbers:  \n",
    "It should receive a list of n numbers.  \n",
    "If no argument is provided, return sum of numbers 1..100.  \n",
    "Look closely to the type of the function's default argument ...  \n",
    "Have fun!"
   ]
  },
  {
   "cell_type": "code",
   "execution_count": null,
   "metadata": {},
   "outputs": [],
   "source": [
    "# My code\n",
    "\n",
    "def sum_numbers(numbers=None):\n",
    "    if numbers == None:\n",
    "        a = range(1,101)\n",
    "        return sum(a)\n",
    "        \n",
    "    else:\n",
    "        b = []\n",
    "        for i in numbers:\n",
    "            b.append(i)\n",
    "        return sum(b)"
   ]
  },
  {
   "cell_type": "markdown",
   "metadata": {},
   "source": [
    "### Analysis\n",
    "\n",
    "Whether an argument is provided or not, the `sum()` will happen. The solution, then, only calls it once. The logic is just here to decide _what_ is being summed. If there are no arguments, the variable `numbers` is populated with numbers from 1-100. If there are numbers passed, it just adds them up.  \n",
    "I should also have read the exercise better: the function already receives a list of numbers! I don't need to add every number to a new, empty list."
   ]
  },
  {
   "cell_type": "markdown",
   "metadata": {},
   "source": [
    "## Bite 19. Write a simple property\n",
    "\n",
    "Write a simple Promo class. Its constructor receives a `name` str and expires `datetime`.\n",
    "\n",
    "Add a `property` called `expired` which returns a `bool`.\n",
    "\n",
    "Checkout the tests and datetime module for more info. Have fun!"
   ]
  },
  {
   "cell_type": "code",
   "execution_count": null,
   "metadata": {},
   "outputs": [],
   "source": [
    "from datetime import datetime\n",
    "\n",
    "NOW = datetime.now()\n",
    "\n",
    "\n",
    "class Promo:\n",
    "    def __init__(self,name,datetime):\n",
    "        self._name = name\n",
    "        sefl._datetime = datetime\n",
    "        \n",
    "    def expired(name,datetime):\n",
    "        return NOW > datetime"
   ]
  }
 ],
 "metadata": {
  "kernelspec": {
   "display_name": "Python 3",
   "language": "python",
   "name": "python3"
  },
  "language_info": {
   "codemirror_mode": {
    "name": "ipython",
    "version": 3
   },
   "file_extension": ".py",
   "mimetype": "text/x-python",
   "name": "python",
   "nbconvert_exporter": "python",
   "pygments_lexer": "ipython3",
   "version": "3.6.2"
  }
 },
 "nbformat": 4,
 "nbformat_minor": 2
}
